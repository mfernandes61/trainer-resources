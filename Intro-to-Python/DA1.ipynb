{
 "cells": [
  {
   "cell_type": "markdown",
   "id": "7c2eeeed-90b1-4f03-bdb5-ee8730f15b92",
   "metadata": {},
   "source": [
    "# DA1 - Getting Started\n",
    "Live demo\n"
   ]
  },
  {
   "cell_type": "code",
   "execution_count": null,
   "id": "e6a66de3-acd2-4a1d-902f-509b421dc1ef",
   "metadata": {},
   "outputs": [],
   "source": [
    "# checking that our working directory is set correctly\n",
    "import os\n",
    "print(os.getcwd())"
   ]
  },
  {
   "cell_type": "code",
   "execution_count": null,
   "id": "b48d5adc-cbfd-4089-9150-66c56a23a819",
   "metadata": {},
   "outputs": [],
   "source": [
    "# Another way of doing this from within a notebook using ! to access commandline utilities\n",
    "!pwd"
   ]
  },
  {
   "cell_type": "code",
   "execution_count": null,
   "id": "342e7fc4-dc8d-4e2c-b5e3-82dcfb633933",
   "metadata": {},
   "outputs": [],
   "source": [
    "# Another way of creating our directory structure\n",
    "!mkdir data\n",
    "!mkdir scripts\n",
    "!mkdir images\n",
    "# a way to show directory structure is the 'tree utility\n",
    "!tree"
   ]
  },
  {
   "cell_type": "code",
   "execution_count": null,
   "id": "8871cebd-1d1d-4d8e-a969-f4f55e407e3a",
   "metadata": {},
   "outputs": [],
   "source": [
    "# we need to make sure that the requisite packages are installed on our machine\n",
    "# one way is to use the 'pip' command which will fetch them into our current environment.\n",
    "\n",
    "!pip install pandas\n",
    "!pip install matplotlib\n",
    "!pip install plotnine\n",
    "!pip install seaborn"
   ]
  },
  {
   "cell_type": "code",
   "execution_count": null,
   "id": "782e071d-8be8-4b30-935e-0b542e9d7141",
   "metadata": {},
   "outputs": [],
   "source": [
    "# Our first step is usually to build our compute environment by importing/loading the\n",
    "# packages for our analysis \n",
    "# e.g. pandas and give it a 'stem' name pd\n",
    "import pandas as pd\n",
    "# an alternate was is to use * (then the 'stem' is the package name\n",
    "from plotnine import *\n",
    "# If you want to use the seaborn alternative to plotnine examples\n",
    "import seaborn as sns\n",
    "import matplotlib.pyplot as plt"
   ]
  },
  {
   "cell_type": "markdown",
   "id": "08509d05-4592-483c-a31d-df0a7c3c793b",
   "metadata": {},
   "source": [
    "# Data objects\n",
    "Lets create and use some objects.   \n",
    "\n",
    "We can convert fahrenheit to celcius with the following formula.    \n",
    "_Celsius = (Fahrenheit - 32) / 1.8_\n"
   ]
  },
  {
   "cell_type": "code",
   "execution_count": null,
   "id": "74f00a26-70a9-466b-b97a-8783cc153e48",
   "metadata": {},
   "outputs": [],
   "source": [
    "# Start by creating a variable for Fahrenheit\n",
    "fahrenheit = 46\n",
    "print(fahrenheit)"
   ]
  },
  {
   "cell_type": "code",
   "execution_count": null,
   "id": "33af2e05-e06b-49c5-93dd-94e358eb36f6",
   "metadata": {},
   "outputs": [],
   "source": [
    "print((fahrenheit -32) /1.8)"
   ]
  },
  {
   "cell_type": "code",
   "execution_count": null,
   "id": "2a1d9718-e3c9-4790-bf41-da5595b67f5c",
   "metadata": {},
   "outputs": [],
   "source": [
    "# Let's store the result of a conversion in another object\n",
    "celcius = (fahrenheit -32) /1.8\n",
    "print(celcius)\n",
    "type(celcius)"
   ]
  },
  {
   "cell_type": "markdown",
   "id": "21e41a28-14f5-4211-90e0-17c2f0471842",
   "metadata": {},
   "source": [
    "## __Collections:__"
   ]
  },
  {
   "cell_type": "code",
   "execution_count": null,
   "id": "4a42d340-cce2-49e4-a693-76732e68a283",
   "metadata": {},
   "outputs": [],
   "source": [
    "# We need the 'numpy' package\n",
    "import numpy as np"
   ]
  },
  {
   "cell_type": "code",
   "execution_count": null,
   "id": "78cb54ad-d9ac-4a84-ad1a-230b59a73d70",
   "metadata": {},
   "outputs": [],
   "source": [
    "# Createa a 1D collection\n",
    "heights = np.array([1.8,1.95,1.7,1.6,2])\n",
    "\n",
    "print(heights) # Note how last item is displayed"
   ]
  },
  {
   "cell_type": "code",
   "execution_count": null,
   "id": "d09d2239-6927-40a4-a7cf-4f0394a80376",
   "metadata": {},
   "outputs": [],
   "source": [
    "# We can use type function again to check heights\n",
    "type(heights)"
   ]
  },
  {
   "cell_type": "markdown",
   "id": "0a0d0abb-b84b-432a-96d4-2bc54c8a3b2b",
   "metadata": {},
   "source": [
    "__Lists__"
   ]
  },
  {
   "cell_type": "code",
   "execution_count": null,
   "id": "54421e77-4e90-4445-a1d2-4881248667ff",
   "metadata": {},
   "outputs": [],
   "source": [
    "# similarly for character data (strings)\n",
    "climate = ([\"cold\",\"warm\",\"hot\"])\n",
    "\n",
    "print(climate)\n",
    "type(climate)"
   ]
  },
  {
   "cell_type": "code",
   "execution_count": null,
   "id": "5c24b7db-174b-4994-9f72-b97affef0dd1",
   "metadata": {
    "scrolled": true
   },
   "outputs": [],
   "source": [
    "# numbers can be in a list but note they are not so fast as numpy arrays\n",
    "height_list = [1.8,1.95,1.7,1.6,2]\n",
    "\n",
    "print(height_list)\n",
    "type(height_list)"
   ]
  },
  {
   "cell_type": "markdown",
   "id": "7222bda3-860e-487b-89a7-a61092de0797",
   "metadata": {},
   "source": [
    "__Tuples__ The immutable object often used to return multiple vales from a function.     \n",
    "They are more memory efficient and faster to access than lists.   "
   ]
  },
  {
   "cell_type": "code",
   "execution_count": null,
   "id": "d9264304-6bc5-4ad3-8852-4f3ab83de20c",
   "metadata": {},
   "outputs": [],
   "source": [
    "example_tup = (1.41, 2.718, 3.142)\n",
    "\n",
    "print(example_tup)\n",
    "type(example_tup)"
   ]
  },
  {
   "cell_type": "code",
   "execution_count": null,
   "id": "3440bd33-39bb-47aa-8ef3-4df43b1aef61",
   "metadata": {},
   "outputs": [],
   "source": [
    "# When doing indexing, which value is returned by code below?\n",
    "print(example_tup[2])"
   ]
  },
  {
   "cell_type": "code",
   "execution_count": null,
   "id": "1fa87ad7-95ef-488a-b133-5cf9f0c16b93",
   "metadata": {},
   "outputs": [],
   "source": []
  }
 ],
 "metadata": {
  "kernelspec": {
   "display_name": "Python 3 (ipykernel)",
   "language": "python",
   "name": "python3"
  },
  "language_info": {
   "codemirror_mode": {
    "name": "ipython",
    "version": 3
   },
   "file_extension": ".py",
   "mimetype": "text/x-python",
   "name": "python",
   "nbconvert_exporter": "python",
   "pygments_lexer": "ipython3",
   "version": "3.12.8"
  }
 },
 "nbformat": 4,
 "nbformat_minor": 5
}
