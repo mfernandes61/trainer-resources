{
 "cells": [
  {
   "cell_type": "markdown",
   "id": "2b688e62-1951-482a-a258-8039dea44913",
   "metadata": {},
   "source": [
    "# DA2 : Data (tabular) and plotting - live demo"
   ]
  },
  {
   "cell_type": "markdown",
   "id": "ec863d44-2e7c-45b7-a85b-8dbb7f3cb68d",
   "metadata": {},
   "source": [
    "<u>Reading in a CSV (Comma Seperated Variable) file into Python.</u>      \n",
    "We use the pandas __read_csv__ function.    \n",
    "_CSV is the recommended format to store data for program interoperability._"
   ]
  },
  {
   "cell_type": "code",
   "execution_count": null,
   "id": "f5a14f8a-871a-4937-b5e1-396fe846abf1",
   "metadata": {},
   "outputs": [],
   "source": [
    "import pandas as pd\n",
    "surveys = pd.read_csv(\"data/surveys.csv\")\n",
    "\n",
    "# ALWAYS take a look at data after reading it in. pandas has a handy .head(0 object method.\n",
    "surveys.head()"
   ]
  },
  {
   "cell_type": "code",
   "execution_count": null,
   "id": "cf74e8ba-968a-4071-ac12-e0388a3783d2",
   "metadata": {},
   "outputs": [],
   "source": [
    "# Complementary .tail(0 method is also useful\n",
    "surveys.tail()"
   ]
  },
  {
   "cell_type": "markdown",
   "id": "9382765e-af49-4440-b074-febaa6d133ff",
   "metadata": {},
   "source": [
    "## What issue is immediately apparent in the output?"
   ]
  },
  {
   "cell_type": "code",
   "execution_count": null,
   "id": "19cd6c51-41f0-4e09-9cdc-d6a68ad2287a",
   "metadata": {},
   "outputs": [],
   "source": [
    "# Let us explore our data further with pandas properties\n",
    "surveys.shape"
   ]
  },
  {
   "cell_type": "code",
   "execution_count": null,
   "id": "69d07f45-9480-4e20-9f92-75e0ac7f8af9",
   "metadata": {},
   "outputs": [],
   "source": [
    "# number of rows?\n",
    "surveys.shape[0]"
   ]
  },
  {
   "cell_type": "code",
   "execution_count": null,
   "id": "b10c3f20-9675-4a8c-bfba-c338dbf8edff",
   "metadata": {},
   "outputs": [],
   "source": [
    "#number of columns?\n",
    "surveys.shape[1]"
   ]
  },
  {
   "cell_type": "code",
   "execution_count": null,
   "id": "5554b77e-4810-40ee-a2d8-5f7a132173a9",
   "metadata": {
    "scrolled": true
   },
   "outputs": [],
   "source": [
    "# We can use the .describe() method to get some summary statistics\n",
    "surveys.describe()"
   ]
  },
  {
   "cell_type": "markdown",
   "id": "82837635-ffed-43d8-aafb-ae9d5bcc8ea7",
   "metadata": {},
   "source": [
    "## Hold on!\n",
    "We had 9 columns and only got 7 from describe - suggests that pandas cannot generate    \n",
    "summary statistics for hose columns. What are these 2 columns called?"
   ]
  },
  {
   "cell_type": "code",
   "execution_count": null,
   "id": "ea645047-4bd2-45bc-83d3-53fdd20a0f8d",
   "metadata": {},
   "outputs": [],
   "source": [
    "surveys.columns"
   ]
  },
  {
   "cell_type": "code",
   "execution_count": null,
   "id": "301dd0c5-5718-4f37-af3c-55a3ace94235",
   "metadata": {},
   "outputs": [],
   "source": [
    "# looks like those 2 columns are probably some form of categorical data. \n",
    "# We might find it useful to see what unique values they take. we use the .unique() method.\n",
    "surveys[\"species_id\"].unique()"
   ]
  },
  {
   "cell_type": "code",
   "execution_count": null,
   "id": "074d05bc-ff46-4e44-8c74-9c56573c18f9",
   "metadata": {},
   "outputs": [],
   "source": [
    "surveys[\"sex\"].unique()"
   ]
  },
  {
   "cell_type": "markdown",
   "id": "12f0e325-fc2a-49f4-bc85-7e762373408c",
   "metadata": {},
   "source": [
    "We can find the number of missing values in a column by combining two methods    \n",
    "_.isna()_ and _.sum()_."
   ]
  },
  {
   "cell_type": "code",
   "execution_count": null,
   "id": "017fc44c-6c68-4af3-a58e-0d473422172f",
   "metadata": {},
   "outputs": [],
   "source": [
    "surveys[\"weight\"].isna().sum()"
   ]
  },
  {
   "cell_type": "markdown",
   "id": "b6c5f8c9-81a6-4499-ac9b-7d1ce4220750",
   "metadata": {},
   "source": [
    "# Subsetting data objects (pandas datframe example)\n",
    "Start by listing the record_id column."
   ]
  },
  {
   "cell_type": "code",
   "execution_count": null,
   "id": "80cadb8b-ec57-4397-b9c5-dcaa46e827c1",
   "metadata": {},
   "outputs": [],
   "source": [
    "surveys.record_id"
   ]
  },
  {
   "cell_type": "markdown",
   "id": "6dcbfd0c-96f8-414c-882d-2fb225c0738b",
   "metadata": {},
   "source": [
    "__Now listing record_id and weight...__"
   ]
  },
  {
   "cell_type": "code",
   "execution_count": null,
   "id": "fe82cc6a-7e50-41b6-a418-f534205942dc",
   "metadata": {},
   "outputs": [],
   "source": [
    "surveys[[\"record_id\",\"weight\"]]"
   ]
  },
  {
   "cell_type": "markdown",
   "id": "a1daaf18-2e3f-44fa-bec9-37fac43e47ae",
   "metadata": {},
   "source": [
    "__Too much data?__ Let's just look at the first 5 values using the __.iloc()__ method.   \n",
    "_(Note Pythons indexing & sequencing)_."
   ]
  },
  {
   "cell_type": "code",
   "execution_count": null,
   "id": "da4434a3-664b-462b-91a6-78c55caeb0cd",
   "metadata": {},
   "outputs": [],
   "source": [
    "surveys[[\"record_id\",\"weight\"]].iloc[0:5]"
   ]
  },
  {
   "cell_type": "markdown",
   "id": "1ff18de7-7c6a-4e64-acf2-ce6df14d46c1",
   "metadata": {},
   "source": [
    "## Simple plots using _plot_nine_\n",
    "Starting with a scatterplot"
   ]
  },
  {
   "cell_type": "code",
   "execution_count": null,
   "id": "49675769-561d-49ce-adb7-7f9bb020a4d7",
   "metadata": {},
   "outputs": [],
   "source": [
    "# ensure plotnine available in this notebook\n",
    "from plotnine import *"
   ]
  },
  {
   "cell_type": "code",
   "execution_count": null,
   "id": "031f92f5-135e-4580-a807-cabd5722ce2c",
   "metadata": {},
   "outputs": [],
   "source": [
    "p = (ggplot(surveys, aes(x = \"weight\", y = \"hindfoot_length\")) +\n",
    "  geom_point())\n",
    "  \n",
    "p.show()"
   ]
  },
  {
   "cell_type": "markdown",
   "id": "68753a83-f34b-43bd-9be9-9933a931d129",
   "metadata": {},
   "source": [
    "__Whole lot of data - where is it all comng from? let's try colouring by year...__"
   ]
  },
  {
   "cell_type": "code",
   "execution_count": null,
   "id": "2cf6a893-5202-4a1f-805b-b07509f60ca7",
   "metadata": {},
   "outputs": [],
   "source": [
    "p = (ggplot(surveys, aes(x = \"weight\", y = \"hindfoot_length\", colour= \"year\")) +\n",
    "  geom_point())\n",
    "  \n",
    "p.show()"
   ]
  },
  {
   "cell_type": "markdown",
   "id": "f6893352-94dc-4e4b-a546-2bd2aa833cfa",
   "metadata": {},
   "source": [
    "## Facetting plots    \n",
    "\n",
    "That didn't help a lot as we have overplotting - if only there was a way    \n",
    "to create a plot for each year... &#x1F600; <!-- Grinning Face -->"
   ]
  },
  {
   "cell_type": "code",
   "execution_count": null,
   "id": "f3fc53a1-955d-46f4-bab6-db62f9d83133",
   "metadata": {},
   "outputs": [],
   "source": [
    "p = (ggplot(surveys, aes(x = \"weight\", y = \"hindfoot_length\", colour= \"year\")) +\n",
    "  geom_point()) + facet_wrap(\"~ year\")\n",
    "  \n",
    "p.show()"
   ]
  },
  {
   "cell_type": "code",
   "execution_count": null,
   "id": "3f075ade-6616-4635-9b47-7f2ff498c0ff",
   "metadata": {},
   "outputs": [],
   "source": []
  }
 ],
 "metadata": {
  "kernelspec": {
   "display_name": "Python 3 (ipykernel)",
   "language": "python",
   "name": "python3"
  },
  "language_info": {
   "codemirror_mode": {
    "name": "ipython",
    "version": 3
   },
   "file_extension": ".py",
   "mimetype": "text/x-python",
   "name": "python",
   "nbconvert_exporter": "python",
   "pygments_lexer": "ipython3",
   "version": "3.12.8"
  }
 },
 "nbformat": 4,
 "nbformat_minor": 5
}
