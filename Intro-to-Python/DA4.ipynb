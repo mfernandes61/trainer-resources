{
 "cells": [
  {
   "cell_type": "markdown",
   "id": "5dd78faa-0eca-4bf7-a4a2-a39070b86356",
   "metadata": {},
   "source": [
    "# DA4: Reshaping data    \n",
    "_First let's load the requisite packages and some data (surveys)._"
   ]
  },
  {
   "cell_type": "code",
   "execution_count": 15,
   "id": "89b39dec-49ca-4b73-940b-0caec99e9be3",
   "metadata": {},
   "outputs": [],
   "source": [
    "# A Python data analysis and manipulation tool\n",
    "import pandas as pd\n",
    "\n",
    "# Python equivalent of `ggplot2`\n",
    "from plotnine import *\n",
    "\n",
    "# If using seaborn for plotting\n",
    "import seaborn as sns\n",
    "import matplotlib.pyplot as plt\n",
    "\n",
    "surveys_join = pd.read_csv(\"data/surveys_join.csv\")"
   ]
  },
  {
   "cell_type": "markdown",
   "id": "3125bb1f-4c8d-4e87-b67a-e44160ed1e51",
   "metadata": {},
   "source": [
    "_Now we use the __.pivot()__ method to pivot wider_"
   ]
  },
  {
   "cell_type": "code",
   "execution_count": 16,
   "id": "3e9d1ade-0c48-48bf-8b12-1795653308d3",
   "metadata": {},
   "outputs": [
    {
     "data": {
      "text/html": [
       "<div>\n",
       "<style scoped>\n",
       "    .dataframe tbody tr th:only-of-type {\n",
       "        vertical-align: middle;\n",
       "    }\n",
       "\n",
       "    .dataframe tbody tr th {\n",
       "        vertical-align: top;\n",
       "    }\n",
       "\n",
       "    .dataframe thead th {\n",
       "        text-align: right;\n",
       "    }\n",
       "</style>\n",
       "<table border=\"1\" class=\"dataframe\">\n",
       "  <thead>\n",
       "    <tr style=\"text-align: right;\">\n",
       "      <th>year</th>\n",
       "      <th>2021</th>\n",
       "      <th>2022</th>\n",
       "      <th>2023</th>\n",
       "      <th>2024</th>\n",
       "    </tr>\n",
       "    <tr>\n",
       "      <th>record_id</th>\n",
       "      <th></th>\n",
       "      <th></th>\n",
       "      <th></th>\n",
       "      <th></th>\n",
       "    </tr>\n",
       "  </thead>\n",
       "  <tbody>\n",
       "    <tr>\n",
       "      <th>118</th>\n",
       "      <td>199.5</td>\n",
       "      <td>192.8</td>\n",
       "      <td>192.6</td>\n",
       "      <td>187.6</td>\n",
       "    </tr>\n",
       "    <tr>\n",
       "      <th>160</th>\n",
       "      <td>192.5</td>\n",
       "      <td>189.0</td>\n",
       "      <td>184.3</td>\n",
       "      <td>181.4</td>\n",
       "    </tr>\n",
       "    <tr>\n",
       "      <th>166</th>\n",
       "      <td>195.4</td>\n",
       "      <td>189.5</td>\n",
       "      <td>183.6</td>\n",
       "      <td>182.0</td>\n",
       "    </tr>\n",
       "    <tr>\n",
       "      <th>178</th>\n",
       "      <td>190.1</td>\n",
       "      <td>188.4</td>\n",
       "      <td>182.2</td>\n",
       "      <td>177.5</td>\n",
       "    </tr>\n",
       "    <tr>\n",
       "      <th>184</th>\n",
       "      <td>195.1</td>\n",
       "      <td>186.7</td>\n",
       "      <td>193.5</td>\n",
       "      <td>187.3</td>\n",
       "    </tr>\n",
       "  </tbody>\n",
       "</table>\n",
       "</div>"
      ],
      "text/plain": [
       "year        2021   2022   2023   2024\n",
       "record_id                            \n",
       "118        199.5  192.8  192.6  187.6\n",
       "160        192.5  189.0  184.3  181.4\n",
       "166        195.4  189.5  183.6  182.0\n",
       "178        190.1  188.4  182.2  177.5\n",
       "184        195.1  186.7  193.5  187.3"
      ]
     },
     "execution_count": 16,
     "metadata": {},
     "output_type": "execute_result"
    }
   ],
   "source": [
    "surveys_wide = surveys_join.pivot(\n",
    "    index = \"record_id\",\n",
    "    columns = \"year\",\n",
    "    values = \"weight\"\n",
    ")\n",
    "\n",
    "\n",
    "surveys_wide.head()"
   ]
  },
  {
   "cell_type": "markdown",
   "id": "c3daed3f-a301-4e4d-a6f0-a26fb9d559e5",
   "metadata": {},
   "source": [
    "_Let's tidy up those headers with a yr\\_ prefix (unfortunately this will break record_id so there's an extra step to fix it)._"
   ]
  },
  {
   "cell_type": "code",
   "execution_count": 17,
   "id": "28bdac7a-19d9-4478-a1a0-30e0cdef2cc5",
   "metadata": {},
   "outputs": [
    {
     "data": {
      "text/html": [
       "<div>\n",
       "<style scoped>\n",
       "    .dataframe tbody tr th:only-of-type {\n",
       "        vertical-align: middle;\n",
       "    }\n",
       "\n",
       "    .dataframe tbody tr th {\n",
       "        vertical-align: top;\n",
       "    }\n",
       "\n",
       "    .dataframe thead th {\n",
       "        text-align: right;\n",
       "    }\n",
       "</style>\n",
       "<table border=\"1\" class=\"dataframe\">\n",
       "  <thead>\n",
       "    <tr style=\"text-align: right;\">\n",
       "      <th></th>\n",
       "      <th>record_id</th>\n",
       "      <th>yr_2021</th>\n",
       "      <th>yr_2022</th>\n",
       "      <th>yr_2023</th>\n",
       "      <th>yr_2024</th>\n",
       "    </tr>\n",
       "  </thead>\n",
       "  <tbody>\n",
       "    <tr>\n",
       "      <th>0</th>\n",
       "      <td>118</td>\n",
       "      <td>199.5</td>\n",
       "      <td>192.8</td>\n",
       "      <td>192.6</td>\n",
       "      <td>187.6</td>\n",
       "    </tr>\n",
       "    <tr>\n",
       "      <th>1</th>\n",
       "      <td>160</td>\n",
       "      <td>192.5</td>\n",
       "      <td>189.0</td>\n",
       "      <td>184.3</td>\n",
       "      <td>181.4</td>\n",
       "    </tr>\n",
       "    <tr>\n",
       "      <th>2</th>\n",
       "      <td>166</td>\n",
       "      <td>195.4</td>\n",
       "      <td>189.5</td>\n",
       "      <td>183.6</td>\n",
       "      <td>182.0</td>\n",
       "    </tr>\n",
       "    <tr>\n",
       "      <th>3</th>\n",
       "      <td>178</td>\n",
       "      <td>190.1</td>\n",
       "      <td>188.4</td>\n",
       "      <td>182.2</td>\n",
       "      <td>177.5</td>\n",
       "    </tr>\n",
       "    <tr>\n",
       "      <th>4</th>\n",
       "      <td>184</td>\n",
       "      <td>195.1</td>\n",
       "      <td>186.7</td>\n",
       "      <td>193.5</td>\n",
       "      <td>187.3</td>\n",
       "    </tr>\n",
       "  </tbody>\n",
       "</table>\n",
       "</div>"
      ],
      "text/plain": [
       "   record_id  yr_2021  yr_2022  yr_2023  yr_2024\n",
       "0        118    199.5    192.8    192.6    187.6\n",
       "1        160    192.5    189.0    184.3    181.4\n",
       "2        166    195.4    189.5    183.6    182.0\n",
       "3        178    190.1    188.4    182.2    177.5\n",
       "4        184    195.1    186.7    193.5    187.3"
      ]
     },
     "execution_count": 17,
     "metadata": {},
     "output_type": "execute_result"
    }
   ],
   "source": [
    "# Add 'yr_' prefix to year columns\n",
    "surveys_wide.columns = [f\"yr_{col}\" for col in surveys_wide.columns]\n",
    "\n",
    "# Reset index to make 'record_id' a column again\n",
    "surveys_wide = surveys_wide.reset_index()\n",
    "\n",
    "surveys_wide.head()"
   ]
  },
  {
   "cell_type": "markdown",
   "id": "e77aa186-62d4-49e1-8b9f-3344ae8ee67d",
   "metadata": {},
   "source": [
    "__Example usage: Explore any possible relationship between 2021 and 2022 using plotnine aka why did we do all of this processing?__"
   ]
  },
  {
   "cell_type": "code",
   "execution_count": 18,
   "id": "4de8aee7-5b0b-4a30-867f-5a0126df86da",
   "metadata": {
    "scrolled": true
   },
   "outputs": [
    {
     "data": {
      "image/png": "[encoded data removed]"
     },
     "metadata": {
      "image/png": {
       "height": 480,
       "width": 640
      }
     },
     "output_type": "display_data"
    }
   ],
   "source": [
    "# Colour the points tomato red - because why not? Demonstrates setting parameters in levels.\n",
    "\n",
    "p = (ggplot(surveys_wide, aes(x = \"yr_2021\", y = \"yr_2022\")) +\n",
    "    geom_point(colour=\"tomato\"))\n",
    "    \n",
    "p.show()"
   ]
  },
  {
   "cell_type": "markdown",
   "id": "0150baf0-f61f-4765-8296-cc508c1d7975",
   "metadata": {},
   "source": [
    "*For reasons unknown, the opposite to __.pivot()__ is __.melt()__. In the interests of moving forward, let's just use it.*"
   ]
  },
  {
   "cell_type": "code",
   "execution_count": 19,
   "id": "c5f5cfd6-7198-4951-81a3-62443c4e6d9b",
   "metadata": {},
   "outputs": [
    {
     "data": {
      "text/html": [
       "<div>\n",
       "<style scoped>\n",
       "    .dataframe tbody tr th:only-of-type {\n",
       "        vertical-align: middle;\n",
       "    }\n",
       "\n",
       "    .dataframe tbody tr th {\n",
       "        vertical-align: top;\n",
       "    }\n",
       "\n",
       "    .dataframe thead th {\n",
       "        text-align: right;\n",
       "    }\n",
       "</style>\n",
       "<table border=\"1\" class=\"dataframe\">\n",
       "  <thead>\n",
       "    <tr style=\"text-align: right;\">\n",
       "      <th></th>\n",
       "      <th>record_id</th>\n",
       "      <th>year</th>\n",
       "      <th>weight</th>\n",
       "    </tr>\n",
       "  </thead>\n",
       "  <tbody>\n",
       "    <tr>\n",
       "      <th>0</th>\n",
       "      <td>118</td>\n",
       "      <td>yr_2021</td>\n",
       "      <td>199.5</td>\n",
       "    </tr>\n",
       "    <tr>\n",
       "      <th>1</th>\n",
       "      <td>160</td>\n",
       "      <td>yr_2021</td>\n",
       "      <td>192.5</td>\n",
       "    </tr>\n",
       "    <tr>\n",
       "      <th>2</th>\n",
       "      <td>166</td>\n",
       "      <td>yr_2021</td>\n",
       "      <td>195.4</td>\n",
       "    </tr>\n",
       "    <tr>\n",
       "      <th>3</th>\n",
       "      <td>178</td>\n",
       "      <td>yr_2021</td>\n",
       "      <td>190.1</td>\n",
       "    </tr>\n",
       "    <tr>\n",
       "      <th>4</th>\n",
       "      <td>184</td>\n",
       "      <td>yr_2021</td>\n",
       "      <td>195.1</td>\n",
       "    </tr>\n",
       "  </tbody>\n",
       "</table>\n",
       "</div>"
      ],
      "text/plain": [
       "   record_id     year  weight\n",
       "0        118  yr_2021   199.5\n",
       "1        160  yr_2021   192.5\n",
       "2        166  yr_2021   195.4\n",
       "3        178  yr_2021   190.1\n",
       "4        184  yr_2021   195.1"
      ]
     },
     "execution_count": 19,
     "metadata": {},
     "output_type": "execute_result"
    }
   ],
   "source": [
    "surveys_long = surveys_wide.melt(\n",
    "    id_vars = \"record_id\",            # columns to keep fixed\n",
    "    var_name = \"year\",                # name of the new 'year' column\n",
    "    value_name = \"weight\"             # name of the new 'weight' column\n",
    ")\n",
    "\n",
    "surveys_long.head()"
   ]
  },
  {
   "cell_type": "markdown",
   "id": "8589f48e-4553-4294-91f4-64024a342eac",
   "metadata": {},
   "source": [
    "_Let's fix those year column values back to numbers by substituting the string and then casting to integer._"
   ]
  },
  {
   "cell_type": "code",
   "execution_count": 20,
   "id": "5004af34-63d5-4a90-8eaa-b46c8ed1857e",
   "metadata": {},
   "outputs": [
    {
     "data": {
      "text/html": [
       "<div>\n",
       "<style scoped>\n",
       "    .dataframe tbody tr th:only-of-type {\n",
       "        vertical-align: middle;\n",
       "    }\n",
       "\n",
       "    .dataframe tbody tr th {\n",
       "        vertical-align: top;\n",
       "    }\n",
       "\n",
       "    .dataframe thead th {\n",
       "        text-align: right;\n",
       "    }\n",
       "</style>\n",
       "<table border=\"1\" class=\"dataframe\">\n",
       "  <thead>\n",
       "    <tr style=\"text-align: right;\">\n",
       "      <th></th>\n",
       "      <th>record_id</th>\n",
       "      <th>year</th>\n",
       "      <th>weight</th>\n",
       "    </tr>\n",
       "  </thead>\n",
       "  <tbody>\n",
       "    <tr>\n",
       "      <th>0</th>\n",
       "      <td>118</td>\n",
       "      <td>2021</td>\n",
       "      <td>199.5</td>\n",
       "    </tr>\n",
       "    <tr>\n",
       "      <th>1</th>\n",
       "      <td>160</td>\n",
       "      <td>2021</td>\n",
       "      <td>192.5</td>\n",
       "    </tr>\n",
       "    <tr>\n",
       "      <th>2</th>\n",
       "      <td>166</td>\n",
       "      <td>2021</td>\n",
       "      <td>195.4</td>\n",
       "    </tr>\n",
       "    <tr>\n",
       "      <th>3</th>\n",
       "      <td>178</td>\n",
       "      <td>2021</td>\n",
       "      <td>190.1</td>\n",
       "    </tr>\n",
       "    <tr>\n",
       "      <th>4</th>\n",
       "      <td>184</td>\n",
       "      <td>2021</td>\n",
       "      <td>195.1</td>\n",
       "    </tr>\n",
       "  </tbody>\n",
       "</table>\n",
       "</div>"
      ],
      "text/plain": [
       "   record_id  year  weight\n",
       "0        118  2021   199.5\n",
       "1        160  2021   192.5\n",
       "2        166  2021   195.4\n",
       "3        178  2021   190.1\n",
       "4        184  2021   195.1"
      ]
     },
     "execution_count": 20,
     "metadata": {},
     "output_type": "execute_result"
    }
   ],
   "source": [
    "surveys_long[\"year\"] = surveys_long[\"year\"].str.replace(\"yr_\", \"\").astype(int)\n",
    "\n",
    "surveys_long.head()"
   ]
  },
  {
   "cell_type": "markdown",
   "id": "c6bcb394-8ee2-4509-8405-476ab33ae73f",
   "metadata": {},
   "source": [
    "__Much better !__"
   ]
  },
  {
   "cell_type": "markdown",
   "id": "d2c90c43-c4ed-44ff-9836-124f279b282a",
   "metadata": {},
   "source": [
    "# DA4: Combining data\n",
    "__Different types of joins__"
   ]
  },
  {
   "cell_type": "markdown",
   "id": "b627ea86-3a34-430a-a966-04f9ebde8f4b",
   "metadata": {},
   "source": [
    "![Alt Inner join animation](https://raw.githubusercontent.com/gadenbuie/tidyexplain/main/images/inner-join.gif \"inner join\")\n",
    "\n"
   ]
  },
  {
   "cell_type": "markdown",
   "id": "d74f71e6-62c4-4ae0-abce-be64cc4357ac",
   "metadata": {},
   "source": [
    "![Alt Left join animation](https://raw.githubusercontent.com/gadenbuie/tidyexplain/main/images/left-join.gif \"Left join\")\n",
    "\n",
    "    "
   ]
  },
  {
   "cell_type": "markdown",
   "id": "9fbefb99-bf8d-4850-afae-3e33a0e08f30",
   "metadata": {},
   "source": [
    "![Alt Right join animation](https://raw.githubusercontent.com/gadenbuie/tidyexplain/main/images/right-join.gif \"Right join\")\n",
    "\n",
    "    "
   ]
  },
  {
   "cell_type": "markdown",
   "id": "5d6cd6f7-824b-40e2-88ce-59208829a9c6",
   "metadata": {},
   "source": [
    "![Alt Full join animation](https://raw.githubusercontent.com/gadenbuie/tidyexplain/main/images/full-join.gif \"Full join\")\n",
    "\n",
    "    "
   ]
  },
  {
   "cell_type": "markdown",
   "id": "be044262-2071-4a77-a9d0-c130d41e46e1",
   "metadata": {},
   "source": [
    "## Let's do a simple Left join to illustrate how to do this in Python\n",
    "Then when you work through the chapter you can try other joins."
   ]
  },
  {
   "cell_type": "code",
   "execution_count": 6,
   "id": "b05e145d-03bc-4bec-a84b-bfcc68430bbd",
   "metadata": {},
   "outputs": [
    {
     "data": {
      "text/html": [
       "<div>\n",
       "<style scoped>\n",
       "    .dataframe tbody tr th:only-of-type {\n",
       "        vertical-align: middle;\n",
       "    }\n",
       "\n",
       "    .dataframe tbody tr th {\n",
       "        vertical-align: top;\n",
       "    }\n",
       "\n",
       "    .dataframe thead th {\n",
       "        text-align: right;\n",
       "    }\n",
       "</style>\n",
       "<table border=\"1\" class=\"dataframe\">\n",
       "  <thead>\n",
       "    <tr style=\"text-align: right;\">\n",
       "      <th></th>\n",
       "      <th>plot_id</th>\n",
       "      <th>plot_type</th>\n",
       "    </tr>\n",
       "  </thead>\n",
       "  <tbody>\n",
       "    <tr>\n",
       "      <th>0</th>\n",
       "      <td>1</td>\n",
       "      <td>Spectab exclosure</td>\n",
       "    </tr>\n",
       "    <tr>\n",
       "      <th>1</th>\n",
       "      <td>2</td>\n",
       "      <td>Control</td>\n",
       "    </tr>\n",
       "    <tr>\n",
       "      <th>2</th>\n",
       "      <td>3</td>\n",
       "      <td>Long-term Krat Exclosure</td>\n",
       "    </tr>\n",
       "    <tr>\n",
       "      <th>3</th>\n",
       "      <td>4</td>\n",
       "      <td>Rodent Exclosure</td>\n",
       "    </tr>\n",
       "    <tr>\n",
       "      <th>4</th>\n",
       "      <td>5</td>\n",
       "      <td>Short-term Krat Exclosure</td>\n",
       "    </tr>\n",
       "  </tbody>\n",
       "</table>\n",
       "</div>"
      ],
      "text/plain": [
       "   plot_id                  plot_type\n",
       "0        1          Spectab exclosure\n",
       "1        2                    Control\n",
       "2        3   Long-term Krat Exclosure\n",
       "3        4           Rodent Exclosure\n",
       "4        5  Short-term Krat Exclosure"
      ]
     },
     "execution_count": 6,
     "metadata": {},
     "output_type": "execute_result"
    }
   ],
   "source": [
    "# A Python data analysis and manipulation tool\n",
    "import pandas as pd\n",
    "\n",
    "# Python equivalent of `ggplot2`\n",
    "from plotnine import *\n",
    "\n",
    "surveys = pd.read_csv(\"data/surveys.csv\")\n",
    "\n",
    "# Read in a file that can be used to translate plotIDs into plot-types\n",
    "plot_types = pd.read_csv(\"data/plots.csv\")\n",
    "\n",
    "plot_types # list the plot types"
   ]
  },
  {
   "cell_type": "markdown",
   "id": "d9fdc25c-d59b-4779-8447-f474ba2153cf",
   "metadata": {},
   "source": [
    "We use the __.merge()__ method with data coming from __surveys__ and __plot_types__, \n",
    "the how being a __left-join__ and the join being on the common field of __plot_id__. "
   ]
  },
  {
   "cell_type": "code",
   "execution_count": 8,
   "id": "87170830-2448-4e9d-8df8-6215c0608931",
   "metadata": {},
   "outputs": [
    {
     "data": {
      "text/html": [
       "<div>\n",
       "<style scoped>\n",
       "    .dataframe tbody tr th:only-of-type {\n",
       "        vertical-align: middle;\n",
       "    }\n",
       "\n",
       "    .dataframe tbody tr th {\n",
       "        vertical-align: top;\n",
       "    }\n",
       "\n",
       "    .dataframe thead th {\n",
       "        text-align: right;\n",
       "    }\n",
       "</style>\n",
       "<table border=\"1\" class=\"dataframe\">\n",
       "  <thead>\n",
       "    <tr style=\"text-align: right;\">\n",
       "      <th></th>\n",
       "      <th>record_id</th>\n",
       "      <th>month</th>\n",
       "      <th>day</th>\n",
       "      <th>year</th>\n",
       "      <th>plot_id</th>\n",
       "      <th>species_id</th>\n",
       "      <th>sex</th>\n",
       "      <th>hindfoot_length</th>\n",
       "      <th>weight</th>\n",
       "      <th>plot_type</th>\n",
       "    </tr>\n",
       "  </thead>\n",
       "  <tbody>\n",
       "    <tr>\n",
       "      <th>0</th>\n",
       "      <td>1</td>\n",
       "      <td>7</td>\n",
       "      <td>16</td>\n",
       "      <td>1977</td>\n",
       "      <td>2</td>\n",
       "      <td>NL</td>\n",
       "      <td>M</td>\n",
       "      <td>32.0</td>\n",
       "      <td>NaN</td>\n",
       "      <td>Control</td>\n",
       "    </tr>\n",
       "    <tr>\n",
       "      <th>1</th>\n",
       "      <td>2</td>\n",
       "      <td>7</td>\n",
       "      <td>16</td>\n",
       "      <td>1977</td>\n",
       "      <td>3</td>\n",
       "      <td>NL</td>\n",
       "      <td>M</td>\n",
       "      <td>33.0</td>\n",
       "      <td>NaN</td>\n",
       "      <td>Long-term Krat Exclosure</td>\n",
       "    </tr>\n",
       "    <tr>\n",
       "      <th>2</th>\n",
       "      <td>3</td>\n",
       "      <td>7</td>\n",
       "      <td>16</td>\n",
       "      <td>1977</td>\n",
       "      <td>2</td>\n",
       "      <td>DM</td>\n",
       "      <td>F</td>\n",
       "      <td>37.0</td>\n",
       "      <td>NaN</td>\n",
       "      <td>Control</td>\n",
       "    </tr>\n",
       "    <tr>\n",
       "      <th>3</th>\n",
       "      <td>4</td>\n",
       "      <td>7</td>\n",
       "      <td>16</td>\n",
       "      <td>1977</td>\n",
       "      <td>7</td>\n",
       "      <td>DM</td>\n",
       "      <td>M</td>\n",
       "      <td>36.0</td>\n",
       "      <td>NaN</td>\n",
       "      <td>NaN</td>\n",
       "    </tr>\n",
       "    <tr>\n",
       "      <th>4</th>\n",
       "      <td>5</td>\n",
       "      <td>7</td>\n",
       "      <td>16</td>\n",
       "      <td>1977</td>\n",
       "      <td>3</td>\n",
       "      <td>DM</td>\n",
       "      <td>M</td>\n",
       "      <td>35.0</td>\n",
       "      <td>NaN</td>\n",
       "      <td>Long-term Krat Exclosure</td>\n",
       "    </tr>\n",
       "    <tr>\n",
       "      <th>...</th>\n",
       "      <td>...</td>\n",
       "      <td>...</td>\n",
       "      <td>...</td>\n",
       "      <td>...</td>\n",
       "      <td>...</td>\n",
       "      <td>...</td>\n",
       "      <td>...</td>\n",
       "      <td>...</td>\n",
       "      <td>...</td>\n",
       "      <td>...</td>\n",
       "    </tr>\n",
       "    <tr>\n",
       "      <th>35544</th>\n",
       "      <td>35545</td>\n",
       "      <td>12</td>\n",
       "      <td>31</td>\n",
       "      <td>2002</td>\n",
       "      <td>15</td>\n",
       "      <td>AH</td>\n",
       "      <td>NaN</td>\n",
       "      <td>NaN</td>\n",
       "      <td>NaN</td>\n",
       "      <td>NaN</td>\n",
       "    </tr>\n",
       "    <tr>\n",
       "      <th>35545</th>\n",
       "      <td>35546</td>\n",
       "      <td>12</td>\n",
       "      <td>31</td>\n",
       "      <td>2002</td>\n",
       "      <td>15</td>\n",
       "      <td>AH</td>\n",
       "      <td>NaN</td>\n",
       "      <td>NaN</td>\n",
       "      <td>NaN</td>\n",
       "      <td>NaN</td>\n",
       "    </tr>\n",
       "    <tr>\n",
       "      <th>35546</th>\n",
       "      <td>35547</td>\n",
       "      <td>12</td>\n",
       "      <td>31</td>\n",
       "      <td>2002</td>\n",
       "      <td>10</td>\n",
       "      <td>RM</td>\n",
       "      <td>F</td>\n",
       "      <td>15.0</td>\n",
       "      <td>14.0</td>\n",
       "      <td>NaN</td>\n",
       "    </tr>\n",
       "    <tr>\n",
       "      <th>35547</th>\n",
       "      <td>35548</td>\n",
       "      <td>12</td>\n",
       "      <td>31</td>\n",
       "      <td>2002</td>\n",
       "      <td>7</td>\n",
       "      <td>DO</td>\n",
       "      <td>M</td>\n",
       "      <td>36.0</td>\n",
       "      <td>51.0</td>\n",
       "      <td>NaN</td>\n",
       "    </tr>\n",
       "    <tr>\n",
       "      <th>35548</th>\n",
       "      <td>35549</td>\n",
       "      <td>12</td>\n",
       "      <td>31</td>\n",
       "      <td>2002</td>\n",
       "      <td>5</td>\n",
       "      <td>NaN</td>\n",
       "      <td>NaN</td>\n",
       "      <td>NaN</td>\n",
       "      <td>NaN</td>\n",
       "      <td>Short-term Krat Exclosure</td>\n",
       "    </tr>\n",
       "  </tbody>\n",
       "</table>\n",
       "<p>35549 rows × 10 columns</p>\n",
       "</div>"
      ],
      "text/plain": [
       "       record_id  month  day  year  plot_id species_id  sex  hindfoot_length  \\\n",
       "0              1      7   16  1977        2         NL    M             32.0   \n",
       "1              2      7   16  1977        3         NL    M             33.0   \n",
       "2              3      7   16  1977        2         DM    F             37.0   \n",
       "3              4      7   16  1977        7         DM    M             36.0   \n",
       "4              5      7   16  1977        3         DM    M             35.0   \n",
       "...          ...    ...  ...   ...      ...        ...  ...              ...   \n",
       "35544      35545     12   31  2002       15         AH  NaN              NaN   \n",
       "35545      35546     12   31  2002       15         AH  NaN              NaN   \n",
       "35546      35547     12   31  2002       10         RM    F             15.0   \n",
       "35547      35548     12   31  2002        7         DO    M             36.0   \n",
       "35548      35549     12   31  2002        5        NaN  NaN              NaN   \n",
       "\n",
       "       weight                  plot_type  \n",
       "0         NaN                    Control  \n",
       "1         NaN   Long-term Krat Exclosure  \n",
       "2         NaN                    Control  \n",
       "3         NaN                        NaN  \n",
       "4         NaN   Long-term Krat Exclosure  \n",
       "...       ...                        ...  \n",
       "35544     NaN                        NaN  \n",
       "35545     NaN                        NaN  \n",
       "35546    14.0                        NaN  \n",
       "35547    51.0                        NaN  \n",
       "35548     NaN  Short-term Krat Exclosure  \n",
       "\n",
       "[35549 rows x 10 columns]"
      ]
     },
     "execution_count": 8,
     "metadata": {},
     "output_type": "execute_result"
    }
   ],
   "source": [
    "surveys_left = pd.merge(surveys, plot_types, how = \"left\", on = \"plot_id\")\n",
    "\n",
    "surveys_left"
   ]
  },
  {
   "cell_type": "markdown",
   "id": "38d16ab5-ee12-456c-9266-d6610bc1d2ab",
   "metadata": {},
   "source": [
    "# Let's use our newly derived data structure to create a box-plot of plot_type vs. hindfoot_length that names the type of enclosure rather than using an id number."
   ]
  },
  {
   "cell_type": "code",
   "execution_count": 9,
   "id": "f2df6779-c3e2-41b5-84d4-9907972990aa",
   "metadata": {},
   "outputs": [
    {
     "name": "stderr",
     "output_type": "stream",
     "text": [
      "/Users/fernan02/miniforge3/lib/python3.12/site-packages/plotnine/layer.py:293: PlotnineWarning: stat_boxplot : Removed 4111 rows containing non-finite values.\n"
     ]
    },
    {
     "data": {
      "image/png": "[encoded data removed]"
     },
     "metadata": {
      "image/png": {
       "height": 480,
       "width": 640
      }
     },
     "output_type": "display_data"
    }
   ],
   "source": [
    "p = (ggplot(surveys_left, aes(x = \"plot_type\", y = \"hindfoot_length\")) +\n",
    "  geom_boxplot())\n",
    "  \n",
    "p.show()"
   ]
  },
  {
   "cell_type": "markdown",
   "id": "1fb70fc8-2f4b-4408-9c18-70c50c986be9",
   "metadata": {},
   "source": [
    "# Now work through the material of chapter 13 and try the exercises at the end."
   ]
  },
  {
   "cell_type": "code",
   "execution_count": null,
   "id": "f524909d-fc5f-4f7e-9ff0-9a0e1cd80590",
   "metadata": {},
   "outputs": [],
   "source": []
  }
 ],
 "metadata": {
  "kernelspec": {
   "display_name": "Python 3 (ipykernel)",
   "language": "python",
   "name": "python3"
  },
  "language_info": {
   "codemirror_mode": {
    "name": "ipython",
    "version": 3
   },
   "file_extension": ".py",
   "mimetype": "text/x-python",
   "name": "python",
   "nbconvert_exporter": "python",
   "pygments_lexer": "ipython3",
   "version": "3.12.8"
  }
 },
 "nbformat": 4,
 "nbformat_minor": 5
}
