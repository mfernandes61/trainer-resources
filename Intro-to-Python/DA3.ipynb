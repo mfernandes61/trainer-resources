{
 "cells": [
  {
   "cell_type": "markdown",
   "id": "a2a83756-818f-43c2-9273-7864cd9faaec",
   "metadata": {},
   "source": [
    "# DA3: selecting columns"
   ]
  },
  {
   "cell_type": "markdown",
   "id": "a35953c9-5d69-42bf-aed0-7af7e284ae35",
   "metadata": {},
   "source": [
    "__We are practicing selecting columns from our data and then\n",
    "creating new columns and then using them for plotting.__"
   ]
  },
  {
   "cell_type": "code",
   "execution_count": null,
   "id": "a9d983d2-2e15-4571-a9ed-56090f0e8856",
   "metadata": {},
   "outputs": [],
   "source": [
    "import pandas as pd\n",
    "from plotnine import *\n",
    "\n",
    "infections = pd.read_csv(\"data/infections.csv\")\n",
    "\n",
    "infections.columns"
   ]
  },
  {
   "cell_type": "markdown",
   "id": "05267e13-8677-4c78-be9c-dd45c64e1589",
   "metadata": {},
   "source": [
    "# Scale the 'crp_level' column manually creating a new column\n",
    "We use the __.mean()__ and __.std()__ methods to calculate mean & standard deviation for scaling."
   ]
  },
  {
   "cell_type": "code",
   "execution_count": null,
   "id": "d6fd76b9-a0d2-4c20-92bc-fb2a02d5212f",
   "metadata": {},
   "outputs": [],
   "source": [
    "infections['crp_scaled'] = (infections['crp_level'] - infections['crp_level'].mean()) / infections['crp_level'].std()"
   ]
  },
  {
   "cell_type": "markdown",
   "id": "f666aa03-d85e-46eb-a443-71753b1c6ac7",
   "metadata": {},
   "source": [
    "___NB: In geom_jitter the width parameter controls the horizontal jitter.\n",
    "And in geom_hline we use yintercept to position the horizontal and the color and \n",
    "size parameters to set the style of the line.___"
   ]
  },
  {
   "cell_type": "code",
   "execution_count": null,
   "id": "fe8f391b-844c-425b-9544-100d20a93a6e",
   "metadata": {},
   "outputs": [],
   "source": [
    "p = (\n",
    "    ggplot(infections, aes(x='quarter', y='crp_scaled')) +\n",
    "    geom_jitter(width=0.1) +\n",
    "    geom_hline(yintercept=0, color=\"blue\", size=1)\n",
    ")\n",
    "\n",
    "p.show()"
   ]
  },
  {
   "cell_type": "markdown",
   "id": "358c955c-7a58-4c58-b6c3-95de8cbe83a8",
   "metadata": {},
   "source": [
    "mutate(infections,\n",
    "       risk_factor = ifelse(vaccination_status == \"unvaccinated\" & icu_admission == TRUE, \"high\", NA))"
   ]
  },
  {
   "cell_type": "code",
   "execution_count": null,
   "id": "33cd3540-0a9f-45f3-89bd-f784688a1eca",
   "metadata": {},
   "outputs": [],
   "source": [
    "conditions = [\n",
    "    (infections[\"vaccination_status\"] == \"unvaccinated\") & (infections[\"icu_admission\"] == True) ]\n",
    "\n",
    "choices =  ['high']\n",
    "infections[\"risk_factor\"] = np.select(conditions, choices, default=\"\")"
   ]
  },
  {
   "cell_type": "code",
   "execution_count": null,
   "id": "67600ef5-b9bd-41f4-8bf1-c19236ae202b",
   "metadata": {
    "scrolled": true
   },
   "outputs": [],
   "source": [
    "# to display in a nice table all entries including new column\n",
    "from IPython.display import display\n",
    "\n",
    "# Display DataFrame with all columns\n",
    "display(infections)"
   ]
  },
  {
   "cell_type": "code",
   "execution_count": null,
   "id": "ed99cbe2-8b76-44a8-9e8c-2a79d7621d6c",
   "metadata": {},
   "outputs": [],
   "source": []
  }
 ],
 "metadata": {
  "kernelspec": {
   "display_name": "Python 3 (ipykernel)",
   "language": "python",
   "name": "python3"
  },
  "language_info": {
   "codemirror_mode": {
    "name": "ipython",
    "version": 3
   },
   "file_extension": ".py",
   "mimetype": "text/x-python",
   "name": "python",
   "nbconvert_exporter": "python",
   "pygments_lexer": "ipython3",
   "version": "3.12.8"
  }
 },
 "nbformat": 4,
 "nbformat_minor": 5
}
